{
 "cells": [
  {
   "cell_type": "code",
   "execution_count": 12,
   "id": "84ba3f3b-c9ed-448f-af86-b984c840a8dd",
   "metadata": {},
   "outputs": [],
   "source": [
    "## Easy"
   ]
  },
  {
   "cell_type": "code",
   "execution_count": 17,
   "id": "ac141e3f-e11d-4119-a995-9a2050ccccd5",
   "metadata": {},
   "outputs": [],
   "source": [
    "## Write a function that takes a list of integers and returns a list containing\n",
    "## the squares of the even numbers from the input list using list comprehension."
   ]
  },
  {
   "cell_type": "code",
   "execution_count": 43,
   "id": "ccb3983d-942e-42d9-ab95-d1e82531b228",
   "metadata": {},
   "outputs": [],
   "source": [
    "numbers = [1, 2, 6, 3, 4, 5, 6, 9, 6]"
   ]
  },
  {
   "cell_type": "code",
   "execution_count": 45,
   "id": "c32eaced-c1df-41fd-9c10-52daffdfb376",
   "metadata": {},
   "outputs": [
    {
     "data": {
      "text/plain": [
       "[4, 36, 16, 36, 36]"
      ]
     },
     "execution_count": 45,
     "metadata": {},
     "output_type": "execute_result"
    }
   ],
   "source": [
    "[i ** 2 for i in numbers if i % 2 == 0]"
   ]
  },
  {
   "cell_type": "code",
   "execution_count": 20,
   "id": "8cb72a48-70b6-4a77-bdd4-77b8dae04c16",
   "metadata": {},
   "outputs": [],
   "source": [
    "## Medium"
   ]
  },
  {
   "cell_type": "code",
   "execution_count": 21,
   "id": "d70f9a95-9480-4f44-9cd0-f9566165fe28",
   "metadata": {},
   "outputs": [],
   "source": [
    "## Write a function that filters out odd numbers from a list and then multiplies each of the remaining even numbers by 10."
   ]
  },
  {
   "cell_type": "code",
   "execution_count": 46,
   "id": "9284d115-fa8d-4f60-8179-728fc701588c",
   "metadata": {},
   "outputs": [
    {
     "data": {
      "text/plain": [
       "[20, 60, 40, 60, 60]"
      ]
     },
     "execution_count": 46,
     "metadata": {},
     "output_type": "execute_result"
    }
   ],
   "source": [
    "[i * 10 for i in numbers if i % 2 == 0]"
   ]
  },
  {
   "cell_type": "code",
   "execution_count": 28,
   "id": "b0c9a706-d204-495d-81c2-0057bcf9b675",
   "metadata": {},
   "outputs": [],
   "source": [
    "## Advanced"
   ]
  },
  {
   "cell_type": "code",
   "execution_count": 29,
   "id": "3d76f23d-d165-4843-afbe-7ad79a62023a",
   "metadata": {},
   "outputs": [],
   "source": [
    "## Write a function that takes a list of integers, removes any duplicates, and returns the list sorted in ascending order."
   ]
  },
  {
   "cell_type": "code",
   "execution_count": 47,
   "id": "3d9ab584-b56c-419a-ab74-d9e3b8082680",
   "metadata": {},
   "outputs": [
    {
     "data": {
      "text/plain": [
       "[1, 2, 3, 4, 5, 6, 9]"
      ]
     },
     "execution_count": 47,
     "metadata": {},
     "output_type": "execute_result"
    }
   ],
   "source": [
    "unique = []\n",
    "def filtered_numbers(numbers):\n",
    "    [unique.append(i) for i in numbers if i not in unique]\n",
    "    return sorted(unique)\n",
    "filtered_numbers(numbers)"
   ]
  }
 ],
 "metadata": {
  "kernelspec": {
   "display_name": "Python 3 (ipykernel)",
   "language": "python",
   "name": "python3"
  },
  "language_info": {
   "codemirror_mode": {
    "name": "ipython",
    "version": 3
   },
   "file_extension": ".py",
   "mimetype": "text/x-python",
   "name": "python",
   "nbconvert_exporter": "python",
   "pygments_lexer": "ipython3",
   "version": "3.11.4"
  }
 },
 "nbformat": 4,
 "nbformat_minor": 5
}
